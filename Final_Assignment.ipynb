{
 "cells": [
  {
   "cell_type": "code",
   "execution_count": 1,
   "metadata": {},
   "outputs": [],
   "source": [
    "# importing the neccessary packages\n",
    "import pandas as pd\n",
    "import matplotlib.pyplot as plt\n",
    "import seaborn as sns\n",
    "import numpy as np\n",
    "from math import floor\n",
    "from sklearn.ensemble import AdaBoostClassifier, RandomForestClassifier, GradientBoostingClassifier\n",
    "from sklearn.model_selection import train_test_split, GridSearchCV\n",
    "from sklearn.metrics import accuracy_score, precision_score, recall_score, f1_score, roc_auc_score\n",
    "from sklearn.tree import DecisionTreeClassifier\n",
    "from sklearn.neighbors import KNeighborsClassifier\n",
    "from sklearn.svm import SVC\n",
    "from sklearn.model_selection import train_test_split\n",
    "from sklearn.preprocessing import StandardScaler\n",
    "from sklearn.metrics import classification_report, confusion_matrix\n",
    "from sklearn.feature_selection import RFE, SelectKBest, f_classif\n",
    "from imblearn.over_sampling import SMOTE"
   ]
  },
  {
   "cell_type": "code",
   "execution_count": 2,
   "metadata": {},
   "outputs": [
    {
     "name": "stdout",
     "output_type": "stream",
     "text": [
      "Data Sheet Head:\n"
     ]
    },
    {
     "data": {
      "text/html": [
       "<div>\n",
       "<style scoped>\n",
       "    .dataframe tbody tr th:only-of-type {\n",
       "        vertical-align: middle;\n",
       "    }\n",
       "\n",
       "    .dataframe tbody tr th {\n",
       "        vertical-align: top;\n",
       "    }\n",
       "\n",
       "    .dataframe thead th {\n",
       "        text-align: right;\n",
       "    }\n",
       "</style>\n",
       "<table border=\"1\" class=\"dataframe\">\n",
       "  <thead>\n",
       "    <tr style=\"text-align: right;\">\n",
       "      <th></th>\n",
       "      <th>OBS#</th>\n",
       "      <th>CHK_ACCT</th>\n",
       "      <th>DURATION</th>\n",
       "      <th>HISTORY</th>\n",
       "      <th>NEW_CAR</th>\n",
       "      <th>USED_CAR</th>\n",
       "      <th>FURNITURE</th>\n",
       "      <th>RADIO/TV</th>\n",
       "      <th>EDUCATION</th>\n",
       "      <th>RETRAINING</th>\n",
       "      <th>...</th>\n",
       "      <th>AGE</th>\n",
       "      <th>OTHER_INSTALL</th>\n",
       "      <th>RENT</th>\n",
       "      <th>OWN_RES</th>\n",
       "      <th>NUM_CREDITS</th>\n",
       "      <th>JOB</th>\n",
       "      <th>NUM_DEPENDENTS</th>\n",
       "      <th>TELEPHONE</th>\n",
       "      <th>FOREIGN</th>\n",
       "      <th>RESPONSE</th>\n",
       "    </tr>\n",
       "  </thead>\n",
       "  <tbody>\n",
       "    <tr>\n",
       "      <th>0</th>\n",
       "      <td>1</td>\n",
       "      <td>0</td>\n",
       "      <td>6</td>\n",
       "      <td>4</td>\n",
       "      <td>0</td>\n",
       "      <td>0</td>\n",
       "      <td>0</td>\n",
       "      <td>1</td>\n",
       "      <td>0</td>\n",
       "      <td>0</td>\n",
       "      <td>...</td>\n",
       "      <td>67.0</td>\n",
       "      <td>0</td>\n",
       "      <td>0</td>\n",
       "      <td>1</td>\n",
       "      <td>2</td>\n",
       "      <td>2</td>\n",
       "      <td>1</td>\n",
       "      <td>1</td>\n",
       "      <td>0</td>\n",
       "      <td>1</td>\n",
       "    </tr>\n",
       "    <tr>\n",
       "      <th>1</th>\n",
       "      <td>2</td>\n",
       "      <td>1</td>\n",
       "      <td>48</td>\n",
       "      <td>2</td>\n",
       "      <td>0</td>\n",
       "      <td>0</td>\n",
       "      <td>0</td>\n",
       "      <td>1</td>\n",
       "      <td>0</td>\n",
       "      <td>0</td>\n",
       "      <td>...</td>\n",
       "      <td>22.0</td>\n",
       "      <td>0</td>\n",
       "      <td>0</td>\n",
       "      <td>1</td>\n",
       "      <td>1</td>\n",
       "      <td>2</td>\n",
       "      <td>1</td>\n",
       "      <td>0</td>\n",
       "      <td>0</td>\n",
       "      <td>0</td>\n",
       "    </tr>\n",
       "    <tr>\n",
       "      <th>2</th>\n",
       "      <td>3</td>\n",
       "      <td>3</td>\n",
       "      <td>12</td>\n",
       "      <td>4</td>\n",
       "      <td>0</td>\n",
       "      <td>0</td>\n",
       "      <td>0</td>\n",
       "      <td>0</td>\n",
       "      <td>1</td>\n",
       "      <td>0</td>\n",
       "      <td>...</td>\n",
       "      <td>49.0</td>\n",
       "      <td>0</td>\n",
       "      <td>0</td>\n",
       "      <td>1</td>\n",
       "      <td>1</td>\n",
       "      <td>1</td>\n",
       "      <td>2</td>\n",
       "      <td>0</td>\n",
       "      <td>0</td>\n",
       "      <td>1</td>\n",
       "    </tr>\n",
       "    <tr>\n",
       "      <th>3</th>\n",
       "      <td>4</td>\n",
       "      <td>0</td>\n",
       "      <td>42</td>\n",
       "      <td>2</td>\n",
       "      <td>0</td>\n",
       "      <td>0</td>\n",
       "      <td>1</td>\n",
       "      <td>0</td>\n",
       "      <td>0</td>\n",
       "      <td>0</td>\n",
       "      <td>...</td>\n",
       "      <td>45.0</td>\n",
       "      <td>0</td>\n",
       "      <td>0</td>\n",
       "      <td>0</td>\n",
       "      <td>1</td>\n",
       "      <td>2</td>\n",
       "      <td>2</td>\n",
       "      <td>0</td>\n",
       "      <td>0</td>\n",
       "      <td>1</td>\n",
       "    </tr>\n",
       "    <tr>\n",
       "      <th>4</th>\n",
       "      <td>5</td>\n",
       "      <td>0</td>\n",
       "      <td>24</td>\n",
       "      <td>3</td>\n",
       "      <td>1</td>\n",
       "      <td>0</td>\n",
       "      <td>0</td>\n",
       "      <td>0</td>\n",
       "      <td>0</td>\n",
       "      <td>0</td>\n",
       "      <td>...</td>\n",
       "      <td>53.0</td>\n",
       "      <td>0</td>\n",
       "      <td>0</td>\n",
       "      <td>0</td>\n",
       "      <td>2</td>\n",
       "      <td>2</td>\n",
       "      <td>2</td>\n",
       "      <td>0</td>\n",
       "      <td>0</td>\n",
       "      <td>0</td>\n",
       "    </tr>\n",
       "  </tbody>\n",
       "</table>\n",
       "<p>5 rows × 32 columns</p>\n",
       "</div>"
      ],
      "text/plain": [
       "   OBS#  CHK_ACCT  DURATION  HISTORY  NEW_CAR  USED_CAR  FURNITURE  RADIO/TV  \\\n",
       "0     1         0         6        4        0         0          0         1   \n",
       "1     2         1        48        2        0         0          0         1   \n",
       "2     3         3        12        4        0         0          0         0   \n",
       "3     4         0        42        2        0         0          1         0   \n",
       "4     5         0        24        3        1         0          0         0   \n",
       "\n",
       "   EDUCATION  RETRAINING  ...   AGE  OTHER_INSTALL  RENT  OWN_RES  \\\n",
       "0          0           0  ...  67.0              0     0        1   \n",
       "1          0           0  ...  22.0              0     0        1   \n",
       "2          1           0  ...  49.0              0     0        1   \n",
       "3          0           0  ...  45.0              0     0        0   \n",
       "4          0           0  ...  53.0              0     0        0   \n",
       "\n",
       "   NUM_CREDITS  JOB  NUM_DEPENDENTS  TELEPHONE  FOREIGN  RESPONSE  \n",
       "0            2    2               1          1        0         1  \n",
       "1            1    2               1          0        0         0  \n",
       "2            1    1               2          0        0         1  \n",
       "3            1    2               2          0        0         1  \n",
       "4            2    2               2          0        0         0  \n",
       "\n",
       "[5 rows x 32 columns]"
      ]
     },
     "execution_count": 2,
     "metadata": {},
     "output_type": "execute_result"
    }
   ],
   "source": [
    "# Load the Excel file\n",
    "file_path = 'CreditRisk_Data.xls'\n",
    "\n",
    "# Load the sheets into separate dataframes\n",
    "df_data = pd.read_excel(file_path, sheet_name=0)\n",
    "\n",
    "# Display the first few rows of each dataframe to understand their structure\n",
    "print('Data Sheet Head:')\n",
    "df_data.head()\n"
   ]
  },
  {
   "cell_type": "markdown",
   "metadata": {},
   "source": [
    "## Exploratory Data Analysis"
   ]
  },
  {
   "cell_type": "code",
   "execution_count": 3,
   "metadata": {},
   "outputs": [
    {
     "data": {
      "text/html": [
       "<div>\n",
       "<style scoped>\n",
       "    .dataframe tbody tr th:only-of-type {\n",
       "        vertical-align: middle;\n",
       "    }\n",
       "\n",
       "    .dataframe tbody tr th {\n",
       "        vertical-align: top;\n",
       "    }\n",
       "\n",
       "    .dataframe thead th {\n",
       "        text-align: right;\n",
       "    }\n",
       "</style>\n",
       "<table border=\"1\" class=\"dataframe\">\n",
       "  <thead>\n",
       "    <tr style=\"text-align: right;\">\n",
       "      <th></th>\n",
       "      <th>obs#</th>\n",
       "      <th>chk_acct</th>\n",
       "      <th>duration</th>\n",
       "      <th>history</th>\n",
       "      <th>new_car</th>\n",
       "      <th>used_car</th>\n",
       "      <th>furniture</th>\n",
       "      <th>radio/tv</th>\n",
       "      <th>education</th>\n",
       "      <th>retraining</th>\n",
       "      <th>...</th>\n",
       "      <th>age</th>\n",
       "      <th>other_install</th>\n",
       "      <th>rent</th>\n",
       "      <th>own_res</th>\n",
       "      <th>num_credits</th>\n",
       "      <th>job</th>\n",
       "      <th>num_dependents</th>\n",
       "      <th>telephone</th>\n",
       "      <th>foreign</th>\n",
       "      <th>response</th>\n",
       "    </tr>\n",
       "  </thead>\n",
       "  <tbody>\n",
       "    <tr>\n",
       "      <th>0</th>\n",
       "      <td>1</td>\n",
       "      <td>0</td>\n",
       "      <td>6</td>\n",
       "      <td>4</td>\n",
       "      <td>0</td>\n",
       "      <td>0</td>\n",
       "      <td>0</td>\n",
       "      <td>1</td>\n",
       "      <td>0</td>\n",
       "      <td>0</td>\n",
       "      <td>...</td>\n",
       "      <td>67.0</td>\n",
       "      <td>0</td>\n",
       "      <td>0</td>\n",
       "      <td>1</td>\n",
       "      <td>2</td>\n",
       "      <td>2</td>\n",
       "      <td>1</td>\n",
       "      <td>1</td>\n",
       "      <td>0</td>\n",
       "      <td>1</td>\n",
       "    </tr>\n",
       "    <tr>\n",
       "      <th>1</th>\n",
       "      <td>2</td>\n",
       "      <td>1</td>\n",
       "      <td>48</td>\n",
       "      <td>2</td>\n",
       "      <td>0</td>\n",
       "      <td>0</td>\n",
       "      <td>0</td>\n",
       "      <td>1</td>\n",
       "      <td>0</td>\n",
       "      <td>0</td>\n",
       "      <td>...</td>\n",
       "      <td>22.0</td>\n",
       "      <td>0</td>\n",
       "      <td>0</td>\n",
       "      <td>1</td>\n",
       "      <td>1</td>\n",
       "      <td>2</td>\n",
       "      <td>1</td>\n",
       "      <td>0</td>\n",
       "      <td>0</td>\n",
       "      <td>0</td>\n",
       "    </tr>\n",
       "    <tr>\n",
       "      <th>2</th>\n",
       "      <td>3</td>\n",
       "      <td>3</td>\n",
       "      <td>12</td>\n",
       "      <td>4</td>\n",
       "      <td>0</td>\n",
       "      <td>0</td>\n",
       "      <td>0</td>\n",
       "      <td>0</td>\n",
       "      <td>1</td>\n",
       "      <td>0</td>\n",
       "      <td>...</td>\n",
       "      <td>49.0</td>\n",
       "      <td>0</td>\n",
       "      <td>0</td>\n",
       "      <td>1</td>\n",
       "      <td>1</td>\n",
       "      <td>1</td>\n",
       "      <td>2</td>\n",
       "      <td>0</td>\n",
       "      <td>0</td>\n",
       "      <td>1</td>\n",
       "    </tr>\n",
       "    <tr>\n",
       "      <th>3</th>\n",
       "      <td>4</td>\n",
       "      <td>0</td>\n",
       "      <td>42</td>\n",
       "      <td>2</td>\n",
       "      <td>0</td>\n",
       "      <td>0</td>\n",
       "      <td>1</td>\n",
       "      <td>0</td>\n",
       "      <td>0</td>\n",
       "      <td>0</td>\n",
       "      <td>...</td>\n",
       "      <td>45.0</td>\n",
       "      <td>0</td>\n",
       "      <td>0</td>\n",
       "      <td>0</td>\n",
       "      <td>1</td>\n",
       "      <td>2</td>\n",
       "      <td>2</td>\n",
       "      <td>0</td>\n",
       "      <td>0</td>\n",
       "      <td>1</td>\n",
       "    </tr>\n",
       "    <tr>\n",
       "      <th>4</th>\n",
       "      <td>5</td>\n",
       "      <td>0</td>\n",
       "      <td>24</td>\n",
       "      <td>3</td>\n",
       "      <td>1</td>\n",
       "      <td>0</td>\n",
       "      <td>0</td>\n",
       "      <td>0</td>\n",
       "      <td>0</td>\n",
       "      <td>0</td>\n",
       "      <td>...</td>\n",
       "      <td>53.0</td>\n",
       "      <td>0</td>\n",
       "      <td>0</td>\n",
       "      <td>0</td>\n",
       "      <td>2</td>\n",
       "      <td>2</td>\n",
       "      <td>2</td>\n",
       "      <td>0</td>\n",
       "      <td>0</td>\n",
       "      <td>0</td>\n",
       "    </tr>\n",
       "  </tbody>\n",
       "</table>\n",
       "<p>5 rows × 32 columns</p>\n",
       "</div>"
      ],
      "text/plain": [
       "   obs#  chk_acct  duration  history  new_car  used_car  furniture  radio/tv  \\\n",
       "0     1         0         6        4        0         0          0         1   \n",
       "1     2         1        48        2        0         0          0         1   \n",
       "2     3         3        12        4        0         0          0         0   \n",
       "3     4         0        42        2        0         0          1         0   \n",
       "4     5         0        24        3        1         0          0         0   \n",
       "\n",
       "   education  retraining  ...   age  other_install  rent  own_res  \\\n",
       "0          0           0  ...  67.0              0     0        1   \n",
       "1          0           0  ...  22.0              0     0        1   \n",
       "2          1           0  ...  49.0              0     0        1   \n",
       "3          0           0  ...  45.0              0     0        0   \n",
       "4          0           0  ...  53.0              0     0        0   \n",
       "\n",
       "   num_credits  job  num_dependents  telephone  foreign  response  \n",
       "0            2    2               1          1        0         1  \n",
       "1            1    2               1          0        0         0  \n",
       "2            1    1               2          0        0         1  \n",
       "3            1    2               2          0        0         1  \n",
       "4            2    2               2          0        0         0  \n",
       "\n",
       "[5 rows x 32 columns]"
      ]
     },
     "execution_count": 3,
     "metadata": {},
     "output_type": "execute_result"
    }
   ],
   "source": [
    "# Modify column headers using list comprehension to replace headers to lowercase \n",
    "df_data.columns = [col.lower() for col in df_data.columns]\n",
    "df_data.head()"
   ]
  },
  {
   "cell_type": "code",
   "execution_count": 4,
   "metadata": {},
   "outputs": [],
   "source": [
    "# dropping the first columns since it is not necesary for the analysis\n",
    "df_data.drop('obs#', axis=1, inplace = True)"
   ]
  },
  {
   "cell_type": "code",
   "execution_count": 5,
   "metadata": {},
   "outputs": [
    {
     "name": "stdout",
     "output_type": "stream",
     "text": [
      "<class 'pandas.core.frame.DataFrame'>\n",
      "RangeIndex: 1000 entries, 0 to 999\n",
      "Data columns (total 31 columns):\n",
      " #   Column            Non-Null Count  Dtype  \n",
      "---  ------            --------------  -----  \n",
      " 0   chk_acct          1000 non-null   int64  \n",
      " 1   duration          1000 non-null   int64  \n",
      " 2   history           1000 non-null   int64  \n",
      " 3   new_car           1000 non-null   int64  \n",
      " 4   used_car          1000 non-null   int64  \n",
      " 5   furniture         1000 non-null   int64  \n",
      " 6   radio/tv          1000 non-null   int64  \n",
      " 7   education         1000 non-null   int64  \n",
      " 8   retraining        1000 non-null   int64  \n",
      " 9   amount            1000 non-null   int64  \n",
      " 10  sav_acct          1000 non-null   int64  \n",
      " 11  employment        1000 non-null   int64  \n",
      " 12  install_rate      1000 non-null   int64  \n",
      " 13  male_div          999 non-null    float64\n",
      " 14  male_single       1000 non-null   int64  \n",
      " 15  male_mar_or_wid   1000 non-null   int64  \n",
      " 16  co-applicant      999 non-null    float64\n",
      " 17  guarantor         1000 non-null   int64  \n",
      " 18  present_resident  1000 non-null   int64  \n",
      " 19  real_estate       1000 non-null   int64  \n",
      " 20  prop_unkn_none    1000 non-null   int64  \n",
      " 21  age               999 non-null    float64\n",
      " 22  other_install     1000 non-null   int64  \n",
      " 23  rent              1000 non-null   int64  \n",
      " 24  own_res           1000 non-null   int64  \n",
      " 25  num_credits       1000 non-null   int64  \n",
      " 26  job               1000 non-null   int64  \n",
      " 27  num_dependents    1000 non-null   int64  \n",
      " 28  telephone         1000 non-null   int64  \n",
      " 29  foreign           1000 non-null   int64  \n",
      " 30  response          1000 non-null   int64  \n",
      "dtypes: float64(3), int64(28)\n",
      "memory usage: 242.3 KB\n",
      "Missing Values:\n",
      "chk_acct            0\n",
      "duration            0\n",
      "history             0\n",
      "new_car             0\n",
      "used_car            0\n",
      "furniture           0\n",
      "radio/tv            0\n",
      "education           0\n",
      "retraining          0\n",
      "amount              0\n",
      "sav_acct            0\n",
      "employment          0\n",
      "install_rate        0\n",
      "male_div            1\n",
      "male_single         0\n",
      "male_mar_or_wid     0\n",
      "co-applicant        1\n",
      "guarantor           0\n",
      "present_resident    0\n",
      "real_estate         0\n",
      "prop_unkn_none      0\n",
      "age                 1\n",
      "other_install       0\n",
      "rent                0\n",
      "own_res             0\n",
      "num_credits         0\n",
      "job                 0\n",
      "num_dependents      0\n",
      "telephone           0\n",
      "foreign             0\n",
      "response            0\n",
      "dtype: int64\n"
     ]
    }
   ],
   "source": [
    "# Check data types, missing values, and basic statistics for the data sheet\n",
    "data_info = df_data.info()\n",
    "missing_values = df_data.isnull().sum()\n",
    "basic_stats = df_data.describe()\n",
    "print('\\\n",
    "Missing Values:')\n",
    "print(missing_values)"
   ]
  },
  {
   "cell_type": "markdown",
   "metadata": {},
   "source": [
    "Handling missing values"
   ]
  },
  {
   "cell_type": "code",
   "execution_count": 6,
   "metadata": {},
   "outputs": [
    {
     "name": "stdout",
     "output_type": "stream",
     "text": [
      "Missing values after handling:\n",
      "chk_acct            0\n",
      "duration            0\n",
      "history             0\n",
      "new_car             0\n",
      "used_car            0\n",
      "furniture           0\n",
      "radio/tv            0\n",
      "education           0\n",
      "retraining          0\n",
      "amount              0\n",
      "sav_acct            0\n",
      "employment          0\n",
      "install_rate        0\n",
      "male_div            0\n",
      "male_single         0\n",
      "male_mar_or_wid     0\n",
      "co-applicant        0\n",
      "guarantor           0\n",
      "present_resident    0\n",
      "real_estate         0\n",
      "prop_unkn_none      0\n",
      "age                 0\n",
      "other_install       0\n",
      "rent                0\n",
      "own_res             0\n",
      "num_credits         0\n",
      "job                 0\n",
      "num_dependents      0\n",
      "telephone           0\n",
      "foreign             0\n",
      "response            0\n",
      "dtype: int64\n"
     ]
    }
   ],
   "source": [
    "# Handle missing values\n",
    "df_data['male_div'].fillna(df_data['male_div'].mode()[0], inplace=True)\n",
    "df_data['co-applicant'].fillna(df_data['co-applicant'].mode()[0], inplace=True)\n",
    "df_data['age'].fillna(df_data['age'].median(), inplace=True)\n",
    "\n",
    "print(\"Missing values after handling:\")\n",
    "print(df_data.isnull().sum())"
   ]
  },
  {
   "cell_type": "markdown",
   "metadata": {},
   "source": [
    "Outlier capping"
   ]
  },
  {
   "cell_type": "code",
   "execution_count": 7,
   "metadata": {},
   "outputs": [
    {
     "data": {
      "image/png": "[encoded data removed]",
      "text/plain": [
       "<Figure size 1080x360 with 3 Axes>"
      ]
     },
     "metadata": {},
     "output_type": "display_data"
    }
   ],
   "source": [
    "#Plot boxplots for numerical features to identify outliers\n",
    "numerical_features = ['duration', 'amount','age']\n",
    "\n",
    "plt.figure(figsize=(15, 5))\n",
    "for i, feature in enumerate(numerical_features, 1):\n",
    "    plt.subplot(1, 3, i)\n",
    "    sns.boxplot(y=df_data[feature])\n",
    "    plt.title(feature)\n",
    "plt.tight_layout()\n",
    "plt.show()"
   ]
  },
  {
   "cell_type": "code",
   "execution_count": 8,
   "metadata": {},
   "outputs": [
    {
     "data": {
      "image/png": "[encoded data removed]",
      "text/plain": [
       "<Figure size 1080x360 with 3 Axes>"
      ]
     },
     "metadata": {},
     "output_type": "display_data"
    }
   ],
   "source": [
    "# Handle outliers by capping at the 90th percentile\n",
    "for feature in ['duration', 'amount','age']:\n",
    "    cap_value = df_data[feature].quantile(0.90)\n",
    "    df_data[feature] = df_data[feature].apply(lambda x: min(x, cap_value))\n",
    "numerical_features = ['duration', 'amount','age']\n",
    "\n",
    "plt.figure(figsize=(15, 5))\n",
    "for i, feature in enumerate(numerical_features, 1):\n",
    "    plt.subplot(1, 3, i)\n",
    "    sns.boxplot(y=df_data[feature])\n",
    "    plt.title(feature)\n",
    "plt.tight_layout()\n",
    "plt.show()"
   ]
  },
  {
   "cell_type": "markdown",
   "metadata": {},
   "source": [
    "Feature Engineering"
   ]
  },
  {
   "cell_type": "code",
   "execution_count": 9,
   "metadata": {},
   "outputs": [
    {
     "data": {
      "text/html": [
       "<div>\n",
       "<style scoped>\n",
       "    .dataframe tbody tr th:only-of-type {\n",
       "        vertical-align: middle;\n",
       "    }\n",
       "\n",
       "    .dataframe tbody tr th {\n",
       "        vertical-align: top;\n",
       "    }\n",
       "\n",
       "    .dataframe thead th {\n",
       "        text-align: right;\n",
       "    }\n",
       "</style>\n",
       "<table border=\"1\" class=\"dataframe\">\n",
       "  <thead>\n",
       "    <tr style=\"text-align: right;\">\n",
       "      <th></th>\n",
       "      <th>chk_acct</th>\n",
       "      <th>duration</th>\n",
       "      <th>history</th>\n",
       "      <th>new_car</th>\n",
       "      <th>used_car</th>\n",
       "      <th>furniture</th>\n",
       "      <th>radio/tv</th>\n",
       "      <th>education</th>\n",
       "      <th>retraining</th>\n",
       "      <th>amount</th>\n",
       "      <th>...</th>\n",
       "      <th>other_install</th>\n",
       "      <th>rent</th>\n",
       "      <th>own_res</th>\n",
       "      <th>num_credits</th>\n",
       "      <th>job</th>\n",
       "      <th>num_dependents</th>\n",
       "      <th>telephone</th>\n",
       "      <th>foreign</th>\n",
       "      <th>response</th>\n",
       "      <th>household_items</th>\n",
       "    </tr>\n",
       "  </thead>\n",
       "  <tbody>\n",
       "    <tr>\n",
       "      <th>0</th>\n",
       "      <td>0</td>\n",
       "      <td>6.0</td>\n",
       "      <td>4</td>\n",
       "      <td>0</td>\n",
       "      <td>0</td>\n",
       "      <td>0</td>\n",
       "      <td>1</td>\n",
       "      <td>0</td>\n",
       "      <td>0</td>\n",
       "      <td>1169.0</td>\n",
       "      <td>...</td>\n",
       "      <td>0</td>\n",
       "      <td>0</td>\n",
       "      <td>1</td>\n",
       "      <td>2</td>\n",
       "      <td>2</td>\n",
       "      <td>1</td>\n",
       "      <td>1</td>\n",
       "      <td>0</td>\n",
       "      <td>1</td>\n",
       "      <td>2</td>\n",
       "    </tr>\n",
       "    <tr>\n",
       "      <th>1</th>\n",
       "      <td>1</td>\n",
       "      <td>36.0</td>\n",
       "      <td>2</td>\n",
       "      <td>0</td>\n",
       "      <td>0</td>\n",
       "      <td>0</td>\n",
       "      <td>1</td>\n",
       "      <td>0</td>\n",
       "      <td>0</td>\n",
       "      <td>5951.0</td>\n",
       "      <td>...</td>\n",
       "      <td>0</td>\n",
       "      <td>0</td>\n",
       "      <td>1</td>\n",
       "      <td>1</td>\n",
       "      <td>2</td>\n",
       "      <td>1</td>\n",
       "      <td>0</td>\n",
       "      <td>0</td>\n",
       "      <td>0</td>\n",
       "      <td>1</td>\n",
       "    </tr>\n",
       "    <tr>\n",
       "      <th>2</th>\n",
       "      <td>3</td>\n",
       "      <td>12.0</td>\n",
       "      <td>4</td>\n",
       "      <td>0</td>\n",
       "      <td>0</td>\n",
       "      <td>0</td>\n",
       "      <td>0</td>\n",
       "      <td>1</td>\n",
       "      <td>0</td>\n",
       "      <td>2096.0</td>\n",
       "      <td>...</td>\n",
       "      <td>0</td>\n",
       "      <td>0</td>\n",
       "      <td>1</td>\n",
       "      <td>1</td>\n",
       "      <td>1</td>\n",
       "      <td>2</td>\n",
       "      <td>0</td>\n",
       "      <td>0</td>\n",
       "      <td>1</td>\n",
       "      <td>0</td>\n",
       "    </tr>\n",
       "    <tr>\n",
       "      <th>3</th>\n",
       "      <td>0</td>\n",
       "      <td>36.0</td>\n",
       "      <td>2</td>\n",
       "      <td>0</td>\n",
       "      <td>0</td>\n",
       "      <td>1</td>\n",
       "      <td>0</td>\n",
       "      <td>0</td>\n",
       "      <td>0</td>\n",
       "      <td>7179.4</td>\n",
       "      <td>...</td>\n",
       "      <td>0</td>\n",
       "      <td>0</td>\n",
       "      <td>0</td>\n",
       "      <td>1</td>\n",
       "      <td>2</td>\n",
       "      <td>2</td>\n",
       "      <td>0</td>\n",
       "      <td>0</td>\n",
       "      <td>1</td>\n",
       "      <td>1</td>\n",
       "    </tr>\n",
       "    <tr>\n",
       "      <th>4</th>\n",
       "      <td>0</td>\n",
       "      <td>24.0</td>\n",
       "      <td>3</td>\n",
       "      <td>1</td>\n",
       "      <td>0</td>\n",
       "      <td>0</td>\n",
       "      <td>0</td>\n",
       "      <td>0</td>\n",
       "      <td>0</td>\n",
       "      <td>4870.0</td>\n",
       "      <td>...</td>\n",
       "      <td>0</td>\n",
       "      <td>0</td>\n",
       "      <td>0</td>\n",
       "      <td>2</td>\n",
       "      <td>2</td>\n",
       "      <td>2</td>\n",
       "      <td>0</td>\n",
       "      <td>0</td>\n",
       "      <td>0</td>\n",
       "      <td>0</td>\n",
       "    </tr>\n",
       "  </tbody>\n",
       "</table>\n",
       "<p>5 rows × 32 columns</p>\n",
       "</div>"
      ],
      "text/plain": [
       "   chk_acct  duration  history  new_car  used_car  furniture  radio/tv  \\\n",
       "0         0       6.0        4        0         0          0         1   \n",
       "1         1      36.0        2        0         0          0         1   \n",
       "2         3      12.0        4        0         0          0         0   \n",
       "3         0      36.0        2        0         0          1         0   \n",
       "4         0      24.0        3        1         0          0         0   \n",
       "\n",
       "   education  retraining  amount  ...  other_install  rent  own_res  \\\n",
       "0          0           0  1169.0  ...              0     0        1   \n",
       "1          0           0  5951.0  ...              0     0        1   \n",
       "2          1           0  2096.0  ...              0     0        1   \n",
       "3          0           0  7179.4  ...              0     0        0   \n",
       "4          0           0  4870.0  ...              0     0        0   \n",
       "\n",
       "   num_credits  job  num_dependents  telephone  foreign  response  \\\n",
       "0            2    2               1          1        0         1   \n",
       "1            1    2               1          0        0         0   \n",
       "2            1    1               2          0        0         1   \n",
       "3            1    2               2          0        0         1   \n",
       "4            2    2               2          0        0         0   \n",
       "\n",
       "   household_items  \n",
       "0                2  \n",
       "1                1  \n",
       "2                0  \n",
       "3                1  \n",
       "4                0  \n",
       "\n",
       "[5 rows x 32 columns]"
      ]
     },
     "execution_count": 9,
     "metadata": {},
     "output_type": "execute_result"
    }
   ],
   "source": [
    "# Feature Engineering\n",
    "# we can combine feature like radio/tv, furniture and telephone to create new feature called household_items\n",
    "# we can just sum up to find the feature since all stated features are binary categorical data tyoes\n",
    "df_data['household_items'] = df_data['radio/tv'] + df_data['furniture'] + df_data['telephone']\n",
    "df_data.head()"
   ]
  },
  {
   "cell_type": "code",
   "execution_count": 10,
   "metadata": {},
   "outputs": [],
   "source": [
    "# in order to avoid multicollinearity we will drop the summed features\n",
    "df_data.drop(['radio/tv', 'furniture','telephone'], axis=1, inplace= True)"
   ]
  },
  {
   "cell_type": "markdown",
   "metadata": {},
   "source": [
    "## Visualization"
   ]
  },
  {
   "cell_type": "code",
   "execution_count": 11,
   "metadata": {},
   "outputs": [
    {
     "data": {
      "image/png": "[encoded data removed]",
      "text/plain": [
       "<Figure size 1440x1440 with 30 Axes>"
      ]
     },
     "metadata": {},
     "output_type": "display_data"
    }
   ],
   "source": [
    "#As the data is free of missing values and outliers and has proper data types, we can \n",
    "#perform some advanced EDA by visualizing it.\n",
    "#We create a histogram for the numerical columns to understand their distribution.\n",
    "df_data.hist(figsize=(20, 20), grid=False, density=True)\n",
    "plt.show()"
   ]
  },
  {
   "cell_type": "code",
   "execution_count": 12,
   "metadata": {},
   "outputs": [
    {
     "data": {
      "image/png": "[encoded data removed]",
      "text/plain": [
       "<Figure size 1440x1152 with 2 Axes>"
      ]
     },
     "metadata": {},
     "output_type": "display_data"
    }
   ],
   "source": [
    "# Select numerical columns for correlation analysis\n",
    "numerical_columns = df_data.select_dtypes(include=[np.number]).columns\n",
    "\n",
    "# Calculate the correlation matrix\n",
    "correlation_matrix = df_data[numerical_columns].corr()\n",
    "\n",
    "# Plot the correlation heatmap\n",
    "plt.figure(figsize=(20, 16))\n",
    "sns.heatmap(correlation_matrix, annot=False, cmap='coolwarm', linewidths=0.5)\n",
    "plt.title('Correlation Heatmap of Numerical Features')\n",
    "plt.tight_layout()\n",
    "plt.show()"
   ]
  },
  {
   "cell_type": "code",
   "execution_count": 13,
   "metadata": {},
   "outputs": [
    {
     "data": {
      "image/png": "[encoded data removed]",
      "text/plain": [
       "<Figure size 432x288 with 1 Axes>"
      ]
     },
     "metadata": {},
     "output_type": "display_data"
    }
   ],
   "source": [
    "#It’s time to check if we are dealing with balanced data, which we do by\n",
    "# understanding the distribution of the target variable using a pie chart.\n",
    "response_vals = df_data.response.value_counts().index\n",
    "response_labels = df_data.response.value_counts().values\n",
    "plt.pie(data = df_data,x = response_labels, labels = response_vals,autopct = '%1.1f%%', shadow = True, radius = 1)\n",
    "plt.show()"
   ]
  },
  {
   "cell_type": "markdown",
   "metadata": {},
   "source": [
    "The data seems unbalanced. Next, we create a few bar charts to understand the\n",
    "interactions between categorical columns."
   ]
  },
  {
   "cell_type": "code",
   "execution_count": 14,
   "metadata": {},
   "outputs": [],
   "source": [
    "def create_stacked_bar_crosstab(data, cat_col1, cat_col2, rotation_val=0): \n",
    "    pd.crosstab(data[cat_col1], data[cat_col2]).plot(kind='bar', stacked=True) # creating cross tab between two variables\n",
    "    plt.title(f'{cat_col1} & {cat_col2} Distribution') # adding title\n",
    "    plt.xlabel(f'{cat_col1}') # adding x and y label\n",
    "    plt.ylabel('Number of Observations')\n",
    "    plt.xticks(rotation = rotation_val) # option for rotating xticks\n",
    "    plt.show()"
   ]
  },
  {
   "cell_type": "code",
   "execution_count": 21,
   "metadata": {},
   "outputs": [
    {
     "data": {
      "image/png": "[encoded data removed]",
      "text/plain": [
       "<Figure size 432x288 with 1 Axes>"
      ]
     },
     "metadata": {},
     "output_type": "display_data"
    }
   ],
   "source": [
    "#Next, we will understand the interaction between Checking account status and Credit rating.\n",
    "create_stacked_bar_crosstab(data = df_data, cat_col1 = 'chk_acct', cat_col2 = 'response', rotation_val = 90)"
   ]
  },
  {
   "cell_type": "code",
   "execution_count": 15,
   "metadata": {},
   "outputs": [
    {
     "data": {
      "image/png": "[encoded data removed]",
      "text/plain": [
       "<Figure size 432x288 with 1 Axes>"
      ]
     },
     "metadata": {},
     "output_type": "display_data"
    }
   ],
   "source": [
    "#Next, we will understand the interaction between duration of credit in months and Credit rating.\n",
    "create_stacked_bar_crosstab(data = df_data, cat_col1 = 'duration', cat_col2 = 'response', rotation_val = 90)"
   ]
  },
  {
   "cell_type": "markdown",
   "metadata": {},
   "source": [
    "## Feature reduction"
   ]
  },
  {
   "cell_type": "code",
   "execution_count": 16,
   "metadata": {},
   "outputs": [
    {
     "name": "stdout",
     "output_type": "stream",
     "text": [
      "Top 10 variables from Tree-Based Method: amount, chk_acct, age, duration, history, employment, sav_acct, install_rate, present_resident, household_items\n",
      "---------------------\n",
      "Top 10 variables from Method Recursive Feature Elimination: chk_acct,duration,history,amount,sav_acct,employment,install_rate,present_resident,age,job\n",
      "-------------------\n",
      "Top 10 variables from Univariate Feature Selection: chk_acct,duration,history,amount,sav_acct,employment,real_estate,prop_unkn_none,other_install,own_res\n"
     ]
    }
   ],
   "source": [
    "# We now find the important variables using tree-based and statistical methods like\n",
    "# Random Forest, Recursive Feature Elimination (RFE), and Univariate Analysis.\n",
    "# extracting the predictor variables\n",
    "X = df_data.drop('response', axis=1)\n",
    "# extracting the target variable\n",
    "y = df_data['response']\n",
    "# Method 1: finding feature importance using Tree-Based method\n",
    "rf_model = RandomForestClassifier()\n",
    "rf_model.fit(X, y)\n",
    "feature_importances = rf_model.feature_importances_\n",
    "top_10_rf = X.columns[feature_importances.argsort()[-10:][::-1]]\n",
    "# Method 2: using Recursive Feature Elimination (RFE)\n",
    "rfe_selector = RFE(estimator=RandomForestClassifier(), n_features_to_select=10,\n",
    "step=1)\n",
    "rfe_selector.fit(X, y)\n",
    "top_10_rfe = X.columns[rfe_selector.support_]\n",
    "# Method 3: using Univariate Feature Selection\n",
    "selector = SelectKBest(score_func=f_classif, k=10)\n",
    "selector.fit(X, y)\n",
    "top_10_univariate = X.columns[selector.get_support()]\n",
    "#The following are the top 10 variables from each method.\n",
    "print(\"Top 10 variables from Tree-Based Method:\", ', '.join(top_10_rf))\n",
    "print(\"---------------------\")\n",
    "print(\"Top 10 variables from Method Recursive Feature Elimination:\", ','.join(top_10_rfe))\n",
    "print(\"-------------------\")\n",
    "print(\"Top 10 variables from Univariate Feature Selection:\", ','.join(top_10_univariate))"
   ]
  },
  {
   "cell_type": "code",
   "execution_count": 17,
   "metadata": {},
   "outputs": [
    {
     "data": {
      "text/plain": [
       "Series([], dtype: object)"
      ]
     },
     "execution_count": 17,
     "metadata": {},
     "output_type": "execute_result"
    }
   ],
   "source": [
    "# to check if any string-based column is left in the data\n",
    "df_data.dtypes[df_data.dtypes=='object']"
   ]
  },
  {
   "cell_type": "code",
   "execution_count": 18,
   "metadata": {},
   "outputs": [
    {
     "data": {
      "text/plain": [
       "['employment',\n",
       " 'real_estate',\n",
       " 'amount',\n",
       " 'own_res',\n",
       " 'duration',\n",
       " 'prop_unkn_none',\n",
       " 'household_items',\n",
       " 'sav_acct',\n",
       " 'job',\n",
       " 'chk_acct',\n",
       " 'install_rate',\n",
       " 'other_install',\n",
       " 'age',\n",
       " 'history',\n",
       " 'present_resident']"
      ]
     },
     "execution_count": 18,
     "metadata": {},
     "output_type": "execute_result"
    }
   ],
   "source": [
    "# We find the important columns by picking only those that appear in at least one of\n",
    "# the feature selection method’s outputs.\n",
    "imp_columns = list(set(top_10_rf.tolist() + top_10_rfe.tolist() +top_10_univariate.tolist()))\n",
    "imp_columns"
   ]
  },
  {
   "cell_type": "code",
   "execution_count": 19,
   "metadata": {},
   "outputs": [
    {
     "name": "stdout",
     "output_type": "stream",
     "text": [
      "Number of selected columns are:  15\n"
     ]
    }
   ],
   "source": [
    "print('Number of selected columns are: ', len(imp_columns))"
   ]
  },
  {
   "cell_type": "markdown",
   "metadata": {},
   "source": [
    "## Checking multicollinearity"
   ]
  },
  {
   "cell_type": "code",
   "execution_count": 20,
   "metadata": {},
   "outputs": [
    {
     "name": "stdout",
     "output_type": "stream",
     "text": [
      "Highly correlated pairs of variables and their correlation values:\n",
      "\n"
     ]
    }
   ],
   "source": [
    "#Some of the current 15 features might be related, causing multicollinearity. We,\n",
    "# therefore, find and drop such features.\n",
    "# extracting the selected independent features\n",
    "X = df_data[imp_columns]\n",
    "# creating correlation matrix\n",
    "correlation_matrix = X.corr()\n",
    "# finding highly correlated feature pairs\n",
    "highly_correlated_pairs = (correlation_matrix.abs() > 0.7) & (correlation_matrix.abs() < 1)\n",
    "print(\"Highly correlated pairs of variables and their correlation values:\\n\")\n",
    "checked_pairs = set() # To keep track of checked pairs\n",
    "for col1 in X.columns:\n",
    "    for col2 in X.columns:\n",
    "        if col1 != col2 and (col1, col2) not in checked_pairs and (col2, col1) not in checked_pairs:\n",
    "            if highly_correlated_pairs.loc[col1, col2]:\n",
    "                correlation_value = correlation_matrix.loc[col1, col2]\n",
    "                print(f\"{col1} - {col2}: {correlation_value:.2f}\")\n",
    "                checked_pairs.add((col1, col2))"
   ]
  },
  {
   "cell_type": "markdown",
   "metadata": {},
   "source": [
    "We use correlation to check for multicollinearity and mark\n",
    "the columns where the absolute correlation value is above 0.7. and found none"
   ]
  },
  {
   "cell_type": "markdown",
   "metadata": {},
   "source": [
    "## Train-test split"
   ]
  },
  {
   "cell_type": "code",
   "execution_count": 23,
   "metadata": {},
   "outputs": [],
   "source": [
    "# Split the data into training and testing sets\n",
    "X_train, X_test, y_train, y_test = train_test_split(X, y, test_size=0.3, random_state=42)"
   ]
  },
  {
   "cell_type": "markdown",
   "metadata": {},
   "source": [
    "Scaling data"
   ]
  },
  {
   "cell_type": "code",
   "execution_count": 22,
   "metadata": {},
   "outputs": [],
   "source": [
    "# normalizing data using min-max scaler\n",
    "from sklearn.preprocessing import MinMaxScaler\n",
    "# initializing min-max scaler\n",
    "scaler = MinMaxScaler()\n",
    "# fitting it onto the independent features\n",
    "X = scaler.fit_transform(X)\n"
   ]
  },
  {
   "cell_type": "markdown",
   "metadata": {},
   "source": [
    "Balancing data"
   ]
  },
  {
   "cell_type": "code",
   "execution_count": 24,
   "metadata": {},
   "outputs": [],
   "source": [
    "# We are dealing with class-imbalanced data, as evidenced earlier thus We used the SMOTE method, where synthetic samples are created for the minority\n",
    "# classes to balance the classes.\n",
    "# initializing SMOTE\n",
    "smote = SMOTE()\n",
    "# fitting SMOTE to the data\n",
    "X, y = smote.fit_resample(X, y)"
   ]
  },
  {
   "cell_type": "markdown",
   "metadata": {},
   "source": [
    "## Finding best model and Fitting best model"
   ]
  },
  {
   "cell_type": "markdown",
   "metadata": {},
   "source": [
    "We will first build a function that is easy to use for different models that we are going to experiment with. The 'grid_search_best_model' function is designed to perform hyperparameter tuning and identify the best-performing machine learning model within a specified parameter grid. It takes as input the 'model' to be optimized, a set of 'params' representing the hyperparameter grid to search over, the 'k_fold' cross- validation strategy for model evaluation, the training data 'X_train' and corresponding target values 'y_train.' Inside the function, GridSearchCV is utilized to exhaustively search the hyperparameter grid, fitting the model with different parameter combinations while using k-fold cross-validation to assess performance. Let us define two more functions evaluating and comparing the performance of machine learning classifiers models. the score_model function to use classification metrics: accuracy, precision, recall, f1_score, and roc_auc_score to evalute each model and the compare_results function to compare classification metrics across different models."
   ]
  },
  {
   "cell_type": "code",
   "execution_count": 25,
   "metadata": {},
   "outputs": [],
   "source": [
    "def grid_search_best_model(model, params, k_fold, X_train, y_train):\n",
    "    # Perform grid search with cross-validation\n",
    "    grid_search = GridSearchCV(model, params, cv=k_fold).fit(X_train, y_train)\n",
    "    print(\"Best params:\", grid_search.best_params_)\n",
    "    print(\"Best estimator:\", grid_search.best_estimator_)\n",
    "    print(\"Best score (Cross-Validated Accuracy):\", grid_search.best_score_)\n",
    "    return grid_search.best_estimator_\n",
    "\n",
    "model_results = {}\n",
    "\n",
    "def score_model(model, X_train, X_test, y_train, y_test, show_plot=True):\n",
    "    # Fit the model on the training data\n",
    "    model.fit(X_train, y_train)\n",
    "    # Predict on the test data\n",
    "    y_pred = model.predict(X_test)\n",
    "    # Predict probabilities for ROC AUC\n",
    "    y_pred_proba = model.predict_proba(X_test)[:, 1]\n",
    "    \n",
    "    # Calculate classification metrics\n",
    "    accuracy = accuracy_score(y_test, y_pred)\n",
    "    precision = precision_score(y_test, y_pred)\n",
    "    recall = recall_score(y_test, y_pred)\n",
    "    f1 = f1_score(y_test, y_pred)\n",
    "    auc = roc_auc_score(y_test, y_pred_proba)\n",
    "    \n",
    "    print(f\"Accuracy: {accuracy}\")\n",
    "    print(f\"Precision: {precision}\")\n",
    "    print(f\"Recall: {recall}\")\n",
    "    print(f\"F1 Score: {f1}\")\n",
    "    print(f\"AUC-ROC: {auc}\")\n",
    "    \n",
    "    return {\n",
    "        \"accuracy\": accuracy,\n",
    "        \"precision\": precision,\n",
    "        \"recall\": recall,\n",
    "        \"f1_score\": f1,\n",
    "        \"auc\": auc\n",
    "    }\n",
    "\n",
    "def compare_results():\n",
    "    # Compare the results of different models\n",
    "    for key in model_results:\n",
    "        print(f\"Model: {key}\")\n",
    "        print(\"Accuracy:\", model_results[key][\"accuracy\"])\n",
    "        print(\"Precision:\", model_results[key][\"precision\"])\n",
    "        print(\"Recall:\", model_results[key][\"recall\"])\n",
    "        print(\"F1 Score:\", model_results[key][\"f1_score\"])\n",
    "        print(\"AUC-ROC:\", model_results[key][\"auc\"])\n",
    "        print()"
   ]
  },
  {
   "cell_type": "code",
   "execution_count": 26,
   "metadata": {},
   "outputs": [],
   "source": [
    "# Define the parameter grids for different classifiers\n",
    "params_ada = {  'n_estimators': [50, 100, 300, 500, 700, 1000], 'learning_rate': [0.01, 0.05, 0.1, 1]}\n",
    "\n",
    "params_rf = { 'n_estimators': [50, 100, 300], 'max_depth': [3, 5, 10], 'min_samples_split': [2, 5, 10]}\n",
    "\n",
    "params_gbc = { 'n_estimators': [50, 100, 300],  'learning_rate': [0.01, 0.1, 0.5],  'max_depth': [3, 5, 7]}\n",
    "\n",
    "params_knn = { 'n_neighbors': range(3, 15), 'leaf_size': [20, 30, 40]}"
   ]
  },
  {
   "cell_type": "code",
   "execution_count": 27,
   "metadata": {},
   "outputs": [
    {
     "name": "stdout",
     "output_type": "stream",
     "text": [
      "Best params: {'learning_rate': 0.1, 'n_estimators': 100}\n",
      "Best estimator: AdaBoostClassifier(learning_rate=0.1, n_estimators=100)\n",
      "Best score (Cross-Validated Accuracy): 0.7385714285714287\n",
      "Accuracy: 0.7366666666666667\n",
      "Precision: 0.75390625\n",
      "Recall: 0.9234449760765551\n",
      "F1 Score: 0.8301075268817204\n",
      "AUC-ROC: 0.7859771807140229\n"
     ]
    }
   ],
   "source": [
    " #Train and evaluate AdaBoost Classifier\n",
    "ada_clf = grid_search_best_model(AdaBoostClassifier(), params_ada, 5, X_train, y_train)\n",
    "model_results['AdaBoost'] = score_model(ada_clf, X_train, X_test, y_train, y_test)"
   ]
  },
  {
   "cell_type": "code",
   "execution_count": 28,
   "metadata": {},
   "outputs": [
    {
     "name": "stdout",
     "output_type": "stream",
     "text": [
      "Best params: {'max_depth': 10, 'min_samples_split': 10, 'n_estimators': 300}\n",
      "Best estimator: RandomForestClassifier(max_depth=10, min_samples_split=10, n_estimators=300)\n",
      "Best score (Cross-Validated Accuracy): 0.7685714285714285\n",
      "Accuracy: 0.76\n",
      "Precision: 0.7707509881422925\n",
      "Recall: 0.9330143540669856\n",
      "F1 Score: 0.8441558441558442\n",
      "AUC-ROC: 0.7834270992165729\n"
     ]
    }
   ],
   "source": [
    "# Train and evaluate Random Forest Classifier\n",
    "rf_clf = grid_search_best_model(RandomForestClassifier(), params_rf, 5, X_train, y_train)\n",
    "model_results['Random Forest'] = score_model(rf_clf, X_train, X_test, y_train, y_test)"
   ]
  },
  {
   "cell_type": "code",
   "execution_count": 35,
   "metadata": {},
   "outputs": [
    {
     "name": "stdout",
     "output_type": "stream",
     "text": [
      "Best params: {'learning_rate': 0.1, 'max_depth': 3, 'n_estimators': 50}\n",
      "Best estimator: GradientBoostingClassifier(n_estimators=50)\n",
      "Best score (Cross-Validated Accuracy): 0.76\n",
      "Accuracy: 0.7466666666666667\n",
      "Precision: 0.7714285714285715\n",
      "Recall: 0.9043062200956937\n",
      "F1 Score: 0.8325991189427313\n",
      "AUC-ROC: 0.7775382512224617\n"
     ]
    }
   ],
   "source": [
    "# Train and evaluate Gradient Boosting Classifier\n",
    "gbc_clf = grid_search_best_model(GradientBoostingClassifier(), params_gbc, 5, X_train, y_train)\n",
    "model_results['Gradient Boosting'] = score_model(gbc_clf, X_train, X_test, y_train, y_test)"
   ]
  },
  {
   "cell_type": "code",
   "execution_count": 29,
   "metadata": {},
   "outputs": [
    {
     "name": "stdout",
     "output_type": "stream",
     "text": [
      "Best params: {'leaf_size': 20, 'n_neighbors': 13}\n",
      "Best estimator: KNeighborsClassifier(leaf_size=20, n_neighbors=13)\n",
      "Best score (Cross-Validated Accuracy): 0.74\n",
      "Accuracy: 0.7266666666666667\n",
      "Precision: 0.7529880478087649\n",
      "Recall: 0.9043062200956937\n",
      "F1 Score: 0.8217391304347826\n",
      "AUC-ROC: 0.7423891897576108\n"
     ]
    }
   ],
   "source": [
    "# Train and evaluate K-Nearest Neighbors Classifier\n",
    "knn_clf = grid_search_best_model(KNeighborsClassifier(), params_knn, 5, X_train, y_train)\n",
    "model_results['KNN'] = score_model(knn_clf, X_train, X_test, y_train, y_test)"
   ]
  },
  {
   "cell_type": "code",
   "execution_count": 38,
   "metadata": {},
   "outputs": [],
   "source": [
    "from sklearn.neural_network import MLPClassifier\n",
    "# Define the MLPClassifier (Neural Network)\n",
    "mlp = MLPClassifier(max_iter=1000)\n",
    "\n",
    "# Define the parameter grid for hyperparameter tuning\n",
    "params= {\n",
    "    'hidden_layer_sizes': [(50, 50, 50), (50, 100, 50), (100,)],\n",
    "    'activation': ['tanh', 'relu'],\n",
    "    'solver': ['sgd', 'adam'],\n",
    "    'alpha': [0.0001, 0.05],\n",
    "    'learning_rate': ['constant', 'adaptive'],\n",
    "}\n",
    "# Perform Grid Search with cross-validation to find the best parameters\n",
    "grid_search = GridSearchCV(mlp, param_grid, n_jobs=-1, cv=5)\n",
    "model_results['grid_search']= grid_search.fit(X_train, y_train)"
   ]
  },
  {
   "cell_type": "code",
   "execution_count": 36,
   "metadata": {},
   "outputs": [
    {
     "name": "stdout",
     "output_type": "stream",
     "text": [
      "Best parameters found:  {'activation': 'relu', 'alpha': 0.0001, 'hidden_layer_sizes': (50, 50, 50), 'learning_rate': 'adaptive', 'solver': 'sgd'}\n",
      "Best estimator:  MLPClassifier(hidden_layer_sizes=(50, 50, 50), learning_rate='adaptive',\n",
      "              max_iter=1000, solver='sgd')\n",
      "Accuracy: 0.7467\n",
      "Precision: 0.7854\n",
      "Recall: 0.8756\n",
      "F1 Score: 0.8281\n",
      "AUC-ROC: 0.8004\n"
     ]
    }
   ],
   "source": [
    "# Output the best parameters and estimator\n",
    "print(\"Best parameters found: \", grid_search.best_params_)\n",
    "print(\"Best estimator: \", grid_search.best_estimator_)\n",
    "\n",
    "# Use the best estimator to predict on the test data\n",
    "best_mlp = grid_search.best_estimator_\n",
    "y_pred = best_mlp.predict(X_test)\n",
    "y_pred_proba = best_mlp.predict_proba(X_test)[:, 1]\n",
    "\n",
    "# Evaluate the model\n",
    "accuracy = accuracy_score(y_test, y_pred)\n",
    "precision = precision_score(y_test, y_pred)\n",
    "recall = recall_score(y_test, y_pred)\n",
    "f1 = f1_score(y_test, y_pred)\n",
    "roc_auc = roc_auc_score(y_test, y_pred_proba)\n",
    "\n",
    "print(f\"Accuracy: {accuracy:.4f}\")\n",
    "print(f\"Precision: {precision:.4f}\")\n",
    "print(f\"Recall: {recall:.4f}\")\n",
    "print(f\"F1 Score: {f1:.4f}\")\n",
    "print(f\"AUC-ROC: {roc_auc:.4f}\")"
   ]
  },
  {
   "cell_type": "markdown",
   "metadata": {},
   "source": [
    "Based on the performance metrics provided for different models used in the credit rating classification, here's an analysis and comparison of their effectiveness:\n",
    "\n",
    "### **Performance Comparison of Models:**\n",
    "\n",
    "1. **AdaBoost:**\n",
    "   - **Accuracy:** 0.737\n",
    "   - **Precision:** 0.754\n",
    "   - **Recall:** 0.923\n",
    "   - **F1 Score:** 0.830\n",
    "   - **AUC-ROC:** 0.786\n",
    "\n",
    "   **Analysis:** \n",
    "   - AdaBoost shows a high recall (0.923), meaning it is very effective at correctly identifying true positives (e.g., customers likely to default). \n",
    "   - The F1 score and precision are relatively high, indicating a good balance between precision and recall. \n",
    "   - It has a slightly lower accuracy compared to Random Forest but performs well overall.\n",
    "\n",
    "2. **Random Forest:**\n",
    "   - **Accuracy:** 0.760\n",
    "   - **Precision:** 0.771\n",
    "   - **Recall:** 0.933\n",
    "   - **F1 Score:** 0.844\n",
    "   - **AUC-ROC:** 0.783\n",
    "\n",
    "   **Analysis:**\n",
    "   - Random Forest has the highest accuracy (0.760) and a strong recall (0.933), indicating it effectively captures the positive cases.\n",
    "   - The F1 score is the highest among all models (0.844), which reflects a good trade-off between precision and recall.\n",
    "   - The AUC-ROC is slightly lower than AdaBoost and Neural Network, suggesting slightly less effective discrimination between classes.\n",
    "\n",
    "3. **K-Nearest Neighbors (KNN):**\n",
    "   - **Accuracy:** 0.727\n",
    "   - **Precision:** 0.753\n",
    "   - **Recall:** 0.904\n",
    "   - **F1 Score:** 0.822\n",
    "   - **AUC-ROC:** 0.742\n",
    "\n",
    "   **Analysis:**\n",
    "   - KNN has the lowest accuracy (0.727) and AUC-ROC (0.742) among all models, indicating it may not be the best choice for this classification task.\n",
    "   - While the recall is still high (0.904), suggesting that it captures a fair amount of positives, its precision and F1 score are lower than those of other models.\n",
    "\n",
    "4. **Neural Network:**\n",
    "   - **Accuracy:** 0.747\n",
    "   - **Precision:** 0.785\n",
    "   - **Recall:** 0.876\n",
    "   - **F1 Score:** 0.828\n",
    "   - **AUC-ROC:** 0.800\n",
    "\n",
    "   **Analysis:**\n",
    "   - The Neural Network model demonstrates a good balance between all metrics with an AUC-ROC of 0.800, the highest among all models.\n",
    "   - It has a higher precision (0.785) compared to other models except for Random Forest, indicating fewer false positives.\n",
    "   - The recall (0.876) and F1 score (0.828) are strong, making it a reliable model for predicting credit ratings.\n",
    "\n",
    "5. **Gradient Boosting:**\n",
    "   - **Accuracy:** 0.747\n",
    "   - **Precision:** 0.771\n",
    "   - **Recall:** 0.904\n",
    "   - **F1 Score:** 0.833\n",
    "   - **AUC-ROC:** 0.778\n",
    "\n",
    "   **Analysis:**\n",
    "   - Gradient Boosting shows comparable performance to the Neural Network with similar accuracy (0.747) and slightly lower AUC-ROC (0.778).\n",
    "   - It has a good balance of precision and recall, making it a solid choice for classification, especially where high recall is important.\n",
    "\n",
    "### **Conclusion:**\n",
    "\n",
    "- **Best Performing Model:** The **Neural Network** model shows the best overall performance in terms of AUC-ROC (0.800), which is critical for evaluating how well the model distinguishes between classes. It also maintains a strong balance across all metrics, making it a reliable choice for credit rating classification.\n",
    "  \n",
    "- **Alternative Choices:** The **Random Forest** and **Gradient Boosting** models are also strong contenders, with high accuracy and F1 scores. If interpretability and stability are crucial, Random Forest might be preferred due to its robustness and ease of understanding.\n",
    "\n",
    "- **Less Effective Models:** The **KNN** model has the lowest performance among all metrics, indicating that it may not be suitable for this task.\n",
    "\n",
    "In summary, the Neural Network appears to be the best model for credit rating classification based on the provided metrics, closely followed by Random Forest and Gradient Boosting."
   ]
  },
  {
   "cell_type": "markdown",
   "metadata": {},
   "source": [
    "## Evaluating model"
   ]
  },
  {
   "cell_type": "code",
   "execution_count": 40,
   "metadata": {},
   "outputs": [
    {
     "name": "stdout",
     "output_type": "stream",
     "text": [
      "Classification Report:\n",
      "              precision    recall  f1-score   support\n",
      "\n",
      "           0       0.62      0.45      0.52        91\n",
      "           1       0.79      0.88      0.83       209\n",
      "\n",
      "    accuracy                           0.75       300\n",
      "   macro avg       0.70      0.67      0.68       300\n",
      "weighted avg       0.74      0.75      0.74       300\n",
      "\n"
     ]
    },
    {
     "data": {
      "image/png": "[encoded data removed]",
      "text/plain": [
       "<Figure size 576x432 with 2 Axes>"
      ]
     },
     "metadata": {},
     "output_type": "display_data"
    }
   ],
   "source": [
    "f_model = MLPClassifier(hidden_layer_sizes=(50, 50, 50), learning_rate='adaptive', max_iter=1000, solver='sgd')\n",
    "f_model.fit(X_train, y_train)\n",
    "\n",
    "# Make predictions\n",
    "y_pred = f_model.predict(X_test)\n",
    "\n",
    "# Print classification report\n",
    "print(\"Classification Report:\")\n",
    "print(classification_report(y_test, y_pred))\n",
    "\n",
    "# Plot confusion matrix\n",
    "cm = confusion_matrix(y_test, y_pred)\n",
    "plt.figure(figsize=(8, 6))\n",
    "sns.heatmap(cm, annot=True, fmt='d', cmap='Blues')\n",
    "plt.title('Confusion Matrix')\n",
    "plt.ylabel('True Label')\n",
    "plt.xlabel('Predicted Label')\n",
    "plt.show()\n"
   ]
  },
  {
   "cell_type": "markdown",
   "metadata": {},
   "source": [
    "The classification report provides a detailed evaluation of the performance of a Neural Network model on a binary classification task where the goal is to classify credit ratings as \"good\" (1) or \"not good\" (0). Here is an explanation of the metrics in the report:\n",
    "\n",
    "### **Classification Report Metrics:**\n",
    "\n",
    "1. **Precision**:\n",
    "   - Precision is the ratio of correctly predicted positive observations to the total predicted positives.\n",
    "   - For class 0 (not good credit rating): Precision is 0.62, meaning that when the model predicts a credit rating is not good, it is correct 62% of the time.\n",
    "   - For class 1 (good credit rating): Precision is 0.79, meaning that when the model predicts a credit rating is good, it is correct 79% of the time.\n",
    "\n",
    "2. **Recall**:\n",
    "   - Recall (also known as sensitivity or true positive rate) is the ratio of correctly predicted positive observations to all observations in the actual class.\n",
    "   - For class 0: Recall is 0.45, meaning the model correctly identifies 45% of all actual \"not good\" credit ratings.\n",
    "   - For class 1: Recall is 0.88, meaning the model correctly identifies 88% of all actual \"good\" credit ratings.\n",
    "\n",
    "3. **F1-Score**:\n",
    "   - The F1-score is the weighted average of precision and recall, providing a single metric that balances both concerns.\n",
    "   - For class 0: The F1-score is 0.52, which indicates a moderate balance between precision and recall for the \"not good\" credit rating.\n",
    "   - For class 1: The F1-score is 0.83, indicating a good balance between precision and recall for the \"good\" credit rating.\n",
    "\n",
    "4. **Support**:\n",
    "   - Support is the number of actual occurrences of each class in the specified dataset.\n",
    "   - There are 91 instances of class 0 (not good credit rating) and 209 instances of class 1 (good credit rating).\n",
    "\n",
    "5. **Accuracy**:\n",
    "   - Accuracy is the ratio of correctly predicted observations to the total observations.\n",
    "   - The accuracy of the model is 0.75, meaning that 75% of the total predictions (both classes combined) are correct.\n",
    "\n",
    "6. **Macro Average**:\n",
    "   - Macro average calculates the average of precision, recall, and F1-score across both classes, treating all classes equally.\n",
    "   - Precision (macro avg): 0.70\n",
    "   - Recall (macro avg): 0.67\n",
    "   - F1-score (macro avg): 0.68\n",
    "   - These scores suggest that when treating both classes equally, the model has moderate performance, especially since there is some imbalance in recall and precision between the two classes.\n",
    "\n",
    "7. **Weighted Average**:\n",
    "   - Weighted average takes into account the support (the number of instances for each class) while calculating the average.\n",
    "   - Precision (weighted avg): 0.74\n",
    "   - Recall (weighted avg): 0.75\n",
    "   - F1-score (weighted avg): 0.74\n",
    "   - These scores indicate that the model performs better on the majority class (class 1) due to its higher support (more instances in the dataset).\n",
    "\n",
    "### **Interpretation and Key Insights:**\n",
    "\n",
    "- **Class Imbalance Handling:** The model shows better performance (higher precision, recall, and F1-score) for class 1 (\"good\" credit rating) compared to class 0 (\"not good\" credit rating). This could be due to the fact that there are more instances of class 1 in the dataset (209 vs. 91), leading the model to be more optimized for class 1.\n",
    "\n",
    "- **Room for Improvement:** The model’s lower recall for class 0 (0.45) indicates that it misses a significant number of \"not good\" credit ratings, potentially leading to false negatives where the model incorrectly classifies some \"not good\" credit ratings as \"good.\"\n",
    "\n",
    "- **Overall Performance:** The accuracy of 0.75 shows that the model correctly predicts 75% of the instances. However, the imbalance between precision and recall for class 0 suggests that the model could benefit from additional tuning or data augmentation techniques to improve its sensitivity to the minority class.\n",
    "\n",
    "- **Potential Actions:** To improve the model:\n",
    "  - **Address Class Imbalance:** Techniques such as oversampling the minority class (class 0), undersampling the majority class (class 1), or using synthetic data generation methods (like SMOTE) could help.\n",
    "  - **Feature Engineering:** Adding more relevant features or transforming existing ones could help the model better differentiate between the classes.\n",
    "  - **Model Optimization:** Further tuning the hyperparameters of the Neural Network or experimenting with different architectures (like deeper networks or different activation functions) might improve the model's performance on class 0.\n",
    "\n",
    "Overall, the model performs reasonably well, particularly in predicting \"good\" credit ratings, but there is an opportunity to enhance its performance in identifying \"not good\" credit ratings."
   ]
  },
  {
   "cell_type": "code",
   "execution_count": null,
   "metadata": {},
   "outputs": [],
   "source": []
  }
 ],
 "metadata": {
  "kernelspec": {
   "display_name": "Python 3",
   "language": "python",
   "name": "python3"
  },
  "language_info": {
   "codemirror_mode": {
    "name": "ipython",
    "version": 3
   },
   "file_extension": ".py",
   "mimetype": "text/x-python",
   "name": "python",
   "nbconvert_exporter": "python",
   "pygments_lexer": "ipython3",
   "version": "3.6.5"
  }
 },
 "nbformat": 4,
 "nbformat_minor": 2
}
